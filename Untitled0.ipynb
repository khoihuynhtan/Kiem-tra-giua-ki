{
  "nbformat": 4,
  "nbformat_minor": 0,
  "metadata": {
    "colab": {
      "name": "Untitled0.ipynb",
      "provenance": [],
      "authorship_tag": "ABX9TyM9gL4TrwmkqzWOQZliUF4J",
      "include_colab_link": true
    },
    "kernelspec": {
      "name": "python3",
      "display_name": "Python 3"
    }
  },
  "cells": [
    {
      "cell_type": "markdown",
      "metadata": {
        "id": "view-in-github",
        "colab_type": "text"
      },
      "source": [
        "<a href=\"https://colab.research.google.com/github/khoihuynhtan/Kiem-tra-giua-ki/blob/main/Untitled0.ipynb\" target=\"_parent\"><img src=\"https://colab.research.google.com/assets/colab-badge.svg\" alt=\"Open In Colab\"/></a>"
      ]
    },
    {
      "cell_type": "code",
      "metadata": {
        "colab": {
          "base_uri": "https://localhost:8080/"
        },
        "id": "jT3jPidw6tiG",
        "outputId": "5eff8278-ede2-4b20-b09f-ccee08be7d7b"
      },
      "source": [
        "#def remove_duplicates():\r\n",
        "listA = [1,10,20,5,60,30,9,10]\r\n",
        "listB = []\r\n",
        "for x in listA:\r\n",
        "    if x!=10:\r\n",
        "      listB.append(x)\r\n",
        "listB"
      ],
      "execution_count": null,
      "outputs": [
        {
          "output_type": "execute_result",
          "data": {
            "text/plain": [
              "[1, 20, 5, 60, 30, 9]"
            ]
          },
          "metadata": {
            "tags": []
          },
          "execution_count": 22
        }
      ]
    },
    {
      "cell_type": "code",
      "metadata": {
        "colab": {
          "base_uri": "https://localhost:8080/"
        },
        "id": "3zL7JEJk-uUZ",
        "outputId": "8a9b93a2-0893-4233-b3aa-15d64bfe9bd2"
      },
      "source": [
        "list1 = [\"A\", \"B\", \"C\", \"D\", \"E\", \"F\"]\r\n",
        "list2 = [1,2,3,4,5,6]\r\n",
        "Dictionary = dict(zip(list1, list2))\r\n",
        "Dictionary"
      ],
      "execution_count": null,
      "outputs": [
        {
          "output_type": "execute_result",
          "data": {
            "text/plain": [
              "{'A': 1, 'B': 2, 'C': 3, 'D': 4, 'E': 5, 'F': 6}"
            ]
          },
          "metadata": {
            "tags": []
          },
          "execution_count": 23
        }
      ]
    },
    {
      "cell_type": "code",
      "metadata": {
        "colab": {
          "base_uri": "https://localhost:8080/"
        },
        "id": "qnT4ncAcDEnd",
        "outputId": "a6a63754-165e-453a-b372-412c755a1bac"
      },
      "source": [
        "person={\r\n",
        "      \"Name\":\"Quoc Nam\",\r\n",
        "      \"Age\": 28,\r\n",
        "      \"Salary\":8000,\r\n",
        "      \"City\":\"Tuy Hoa\"\r\n",
        "}\r\n",
        "KeyRemove=['Salary','City']\r\n",
        "for x in KeyRemove:\r\n",
        "    if x in person:\r\n",
        "      person.pop(x)\r\n",
        "person"
      ],
      "execution_count": null,
      "outputs": [
        {
          "output_type": "execute_result",
          "data": {
            "text/plain": [
              "{'Age': 28, 'Name': 'Quoc Nam'}"
            ]
          },
          "metadata": {
            "tags": []
          },
          "execution_count": 24
        }
      ]
    },
    {
      "cell_type": "code",
      "metadata": {
        "colab": {
          "base_uri": "https://localhost:8080/"
        },
        "id": "QjP0JgY-JIcV",
        "outputId": "5bc26d8c-2b2e-4d1c-9036-22105f322009"
      },
      "source": [
        "import numpy as np\r\n",
        "from google.colab import drive\r\n",
        "drive.mount('/content/drive')"
      ],
      "execution_count": null,
      "outputs": [
        {
          "output_type": "stream",
          "text": [
            "Drive already mounted at /content/drive; to attempt to forcibly remount, call drive.mount(\"/content/drive\", force_remount=True).\n"
          ],
          "name": "stdout"
        }
      ]
    }
  ]
}